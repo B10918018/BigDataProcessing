{
  "nbformat": 4,
  "nbformat_minor": 0,
  "metadata": {
    "colab": {
      "provenance": [],
      "toc_visible": true,
      "authorship_tag": "ABX9TyPfETFkhyAQ0JYp+Zds3sWR",
      "include_colab_link": true
    },
    "kernelspec": {
      "name": "python3",
      "display_name": "Python 3"
    },
    "language_info": {
      "name": "python"
    }
  },
  "cells": [
    {
      "cell_type": "markdown",
      "metadata": {
        "id": "view-in-github",
        "colab_type": "text"
      },
      "source": [
        "<a href=\"https://colab.research.google.com/github/B10918018/BigDataProcessing/blob/main/%E3%80%8C300_ipynb%E3%80%8D%E7%9A%84%E5%89%AF%E6%9C%AC.ipynb\" target=\"_parent\"><img src=\"https://colab.research.google.com/assets/colab-badge.svg\" alt=\"Open In Colab\"/></a>"
      ]
    },
    {
      "cell_type": "code",
      "source": [
        "import csv\n",
        "# 建立csv二維串列資料\n",
        "csvtable = [\n",
        "    ['姓名','身高','體重'],\n",
        "    ['Chiou',170,65],\n",
        "    ['David',183,78],\n",
        "]\n",
        "#開啟輸出的 csv 檔案\n",
        "with open('test2.csv','w',newline='') as csvfile:\n",
        "  #建立 csv 檔寫入物件\n",
        "  writer = csv.writer(csvfile)\n",
        "\n",
        "  #寫入二維串列資料\n",
        "  writer.writerows(csvtable)"
      ],
      "metadata": {
        "id": "R6cJWC3XTAIt"
      },
      "execution_count": null,
      "outputs": []
    }
  ]
}